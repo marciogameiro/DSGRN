{
 "cells": [
  {
   "cell_type": "markdown",
   "metadata": {
    "collapsed": true,
    "jupyter": {
     "outputs_hidden": true
    }
   },
   "source": [
    "# Pattern Matching Experiments"
   ]
  },
  {
   "cell_type": "code",
   "execution_count": 1,
   "metadata": {},
   "outputs": [],
   "source": [
    "from dsgrn import *"
   ]
  },
  {
   "cell_type": "markdown",
   "metadata": {},
   "source": [
    "# Networks\n",
    "\n",
    "We give two sets of networks. One of them allows for all parameters. The other is identical except it only uses essential parameters."
   ]
  },
  {
   "cell_type": "code",
   "execution_count": 2,
   "metadata": {
    "collapsed": true,
    "jupyter": {
     "outputs_hidden": true
    }
   },
   "outputs": [],
   "source": [
    "network_strings = [ \n",
    "[\"SWI4 : (NDD1)(~YOX1)\", \"HCM1 : SWI4\", \"NDD1 : HCM1\", \"YOX1 : SWI4\"],\n",
    "[\"SWI4 : (NDD1)(~YOX1)\", \"HCM1 : SWI4\", \"NDD1 : HCM1\", \"YOX1 : (SWI4)(HCM1)\"],\n",
    "[\"SWI4 : (NDD1)(~YOX1)\", \"HCM1 : SWI4\", \"NDD1 : HCM1\", \"YOX1 : (SWI4)(~HCM1)\"],\n",
    "[\"SWI4 : (NDD1)(~YOX1)\", \"HCM1 : SWI4\", \"NDD1 : HCM1\", \"YOX1 : (SWI4)(NDD1)\"],\n",
    "[\"SWI4 : (NDD1)(~YOX1)\", \"HCM1 : SWI4\", \"NDD1 : HCM1\", \"YOX1 : (SWI4)(~NDD1)\"],\n",
    "[\"SWI4 : (NDD1)(~YOX1)\", \"HCM1 : (SWI4)(YOX1)\", \"NDD1 : HCM1\", \"YOX1 : SWI4\"],\n",
    "[\"SWI4 : (NDD1)(~YOX1)\", \"HCM1 : (SWI4)(~YOX1)\", \"NDD1 : HCM1\", \"YOX1 : SWI4\"],\n",
    "[\"SWI4 : (NDD1)(~YOX1)\", \"HCM1 : SWI4\", \"NDD1 : (HCM1)(YOX1)\", \"YOX1 : SWI4\"],\n",
    "[\"SWI4 : (NDD1)(~YOX1)\", \"HCM1 : SWI4\", \"NDD1 : (HCM1)(~YOX1)\", \"YOX1 : SWI4\"] ]"
   ]
  },
  {
   "cell_type": "markdown",
   "metadata": {},
   "source": [
    "## Full Networks"
   ]
  },
  {
   "cell_type": "code",
   "execution_count": 3,
   "metadata": {},
   "outputs": [],
   "source": [
    "networks = [Network() for i in range(0,9)]\n",
    "for i,network in enumerate(networks):\n",
    "    network.assign('\\n'.join(network_strings[i]))"
   ]
  },
  {
   "cell_type": "markdown",
   "metadata": {},
   "source": [
    "## Essential Networks"
   ]
  },
  {
   "cell_type": "code",
   "execution_count": 4,
   "metadata": {
    "collapsed": true,
    "jupyter": {
     "outputs_hidden": true
    }
   },
   "outputs": [],
   "source": [
    "essential_network_strings = [ [ line + \" : E\" for line in network_string ] for network_string in network_strings]\n",
    "essential_networks = [Network() for i in range(0,9)]\n",
    "for i,network in enumerate(essential_networks):\n",
    "    network.assign('\\n'.join(essential_network_strings[i]))"
   ]
  },
  {
   "cell_type": "markdown",
   "metadata": {},
   "source": [
    "# Path match analysis\n",
    "\n",
    "We give two functions for path match analysis. One looks at the entire domain graph. The other only checks for path matches in stable Morse sets."
   ]
  },
  {
   "cell_type": "markdown",
   "metadata": {},
   "source": [
    "## Analysis on entire domain graph"
   ]
  },
  {
   "cell_type": "code",
   "execution_count": 5,
   "metadata": {
    "collapsed": true,
    "jupyter": {
     "outputs_hidden": true
    }
   },
   "outputs": [],
   "source": [
    "def Analyze(network, events, event_ordering):\n",
    "    poe = PosetOfExtrema(network, events, event_ordering )\n",
    "    pattern_graph = PatternGraph(poe)\n",
    "    parameter_graph = ParameterGraph(network)\n",
    "    result = []\n",
    "    for parameter_index in range(0, parameter_graph.size()):\n",
    "        parameter = parameter_graph.parameter(parameter_index)\n",
    "        search_graph = SearchGraph(DomainGraph(parameter))\n",
    "        matching_graph = MatchingGraph(search_graph, pattern_graph);\n",
    "        if PathMatch(matching_graph):\n",
    "            result.append(parameter_index)\n",
    "    return [result,  parameter_graph.size()]"
   ]
  },
  {
   "cell_type": "markdown",
   "metadata": {},
   "source": [
    "## Analysis on stable Morse set only"
   ]
  },
  {
   "cell_type": "code",
   "execution_count": 6,
   "metadata": {
    "collapsed": true,
    "jupyter": {
     "outputs_hidden": true
    }
   },
   "outputs": [],
   "source": [
    "def AnalyzeOnStable(network, events, event_ordering):\n",
    "    poe = PosetOfExtrema(network, events, event_ordering )\n",
    "    pattern_graph = PatternGraph(poe)\n",
    "    parameter_graph = ParameterGraph(network)\n",
    "    results = []\n",
    "    for parameter_index in range(0, parameter_graph.size()):\n",
    "        parameter = parameter_graph.parameter(parameter_index)\n",
    "        domain_graph = DomainGraph(parameter)\n",
    "        morse_decomposition = MorseDecomposition(domain_graph.digraph())\n",
    "        morse_graph = MorseGraph()\n",
    "        morse_graph.assign(domain_graph, morse_decomposition)\n",
    "        MorseNodes = range(0, morse_graph.poset().size())\n",
    "        isStable = lambda node : len(morse_graph.poset().children(node)) == 0\n",
    "        isStableFC = lambda node : morse_graph.annotation(node)[0] == 'FC' and isStable(node)\n",
    "        hasStableFC = any( isStableFC(node) for node in MorseNodes)\n",
    "        StableNodes = [ node for node in MorseNodes if isStable(node) ]\n",
    "        subresult = []\n",
    "        for node in StableNodes:\n",
    "            search_graph = SearchGraph(domain_graph, node)\n",
    "            matching_graph = MatchingGraph(search_graph, pattern_graph)\n",
    "            path_match = PathMatch(matching_graph)\n",
    "            if path_match:\n",
    "                subresult.append([parameter_index, node])\n",
    "        results.append([subresult, 1 if hasStableFC else 0])\n",
    "    return [results, parameter_graph.size()]"
   ]
  },
  {
   "cell_type": "markdown",
   "metadata": {},
   "source": [
    "# Poset of Extrema\n",
    "\n",
    "We study two poset of extrema. The first poset comes from looking at times [10,60] and assuming SWI4 happens before the other minima at the beginning and thus can be excluded. The other comes from including all extrema."
   ]
  },
  {
   "cell_type": "markdown",
   "metadata": {},
   "source": [
    "## Original Poset of Extrema"
   ]
  },
  {
   "cell_type": "code",
   "execution_count": 7,
   "metadata": {
    "collapsed": true,
    "jupyter": {
     "outputs_hidden": true
    }
   },
   "outputs": [],
   "source": [
    "original_events = [(\"HCM1\", \"min\"), (\"NDD1\", \"min\"), (\"YOX1\", \"min\"), \n",
    "          (\"SWI4\", \"max\"), (\"HCM1\", \"max\"), (\"YOX1\", \"max\"), \n",
    "          (\"NDD1\", \"max\"),\n",
    "          (\"SWI4\",\"min\")]\n",
    "original_event_ordering = [ (i,j) for i in [0,1,2] for j in [3,4,5] ] + \\\n",
    "                 [ (i,j) for i in [3,4,5] for j in [6] ] + \\\n",
    "                 [ (i,j) for i in [6] for j in [7] ]"
   ]
  },
  {
   "cell_type": "code",
   "execution_count": 8,
   "metadata": {},
   "outputs": [
    {
     "data": {
      "image/svg+xml": [
       "<?xml version=\"1.0\" encoding=\"UTF-8\" standalone=\"no\"?>\n",
       "<!DOCTYPE svg PUBLIC \"-//W3C//DTD SVG 1.1//EN\"\n",
       " \"http://www.w3.org/Graphics/SVG/1.1/DTD/svg11.dtd\">\n",
       "<!-- Generated by graphviz version 2.40.1 (20161225.0304)\n",
       " -->\n",
       "<!-- Title: %3 Pages: 1 -->\n",
       "<svg width=\"349pt\" height=\"260pt\"\n",
       " viewBox=\"0.00 0.00 348.77 260.00\" xmlns=\"http://www.w3.org/2000/svg\" xmlns:xlink=\"http://www.w3.org/1999/xlink\">\n",
       "<g id=\"graph0\" class=\"graph\" transform=\"scale(1 1) rotate(0) translate(4 256)\">\n",
       "<title>%3</title>\n",
       "<polygon fill=\"#ffffff\" stroke=\"transparent\" points=\"-4,4 -4,-256 344.7696,-256 344.7696,4 -4,4\"/>\n",
       "<!-- 0 -->\n",
       "<g id=\"node1\" class=\"node\">\n",
       "<title>0</title>\n",
       "<ellipse fill=\"none\" stroke=\"#000000\" cx=\"50.6451\" cy=\"-234\" rx=\"50.7907\" ry=\"18\"/>\n",
       "<text text-anchor=\"middle\" x=\"50.6451\" y=\"-229.8\" font-family=\"Times,serif\" font-size=\"14.00\" fill=\"#000000\">HCM1 min</text>\n",
       "</g>\n",
       "<!-- 3 -->\n",
       "<g id=\"node4\" class=\"node\">\n",
       "<title>3</title>\n",
       "<ellipse fill=\"none\" stroke=\"#000000\" cx=\"50.6451\" cy=\"-162\" rx=\"48.351\" ry=\"18\"/>\n",
       "<text text-anchor=\"middle\" x=\"50.6451\" y=\"-157.8\" font-family=\"Times,serif\" font-size=\"14.00\" fill=\"#000000\">SWI4 max</text>\n",
       "</g>\n",
       "<!-- 0&#45;&gt;3 -->\n",
       "<g id=\"edge1\" class=\"edge\">\n",
       "<title>0&#45;&gt;3</title>\n",
       "<path fill=\"none\" stroke=\"#000000\" d=\"M50.6451,-215.8314C50.6451,-208.131 50.6451,-198.9743 50.6451,-190.4166\"/>\n",
       "<polygon fill=\"#000000\" stroke=\"#000000\" points=\"54.1452,-190.4132 50.6451,-180.4133 47.1452,-190.4133 54.1452,-190.4132\"/>\n",
       "</g>\n",
       "<!-- 4 -->\n",
       "<g id=\"node5\" class=\"node\">\n",
       "<title>4</title>\n",
       "<ellipse fill=\"none\" stroke=\"#000000\" cx=\"168.6451\" cy=\"-162\" rx=\"52.2268\" ry=\"18\"/>\n",
       "<text text-anchor=\"middle\" x=\"168.6451\" y=\"-157.8\" font-family=\"Times,serif\" font-size=\"14.00\" fill=\"#000000\">HCM1 max</text>\n",
       "</g>\n",
       "<!-- 0&#45;&gt;4 -->\n",
       "<g id=\"edge2\" class=\"edge\">\n",
       "<title>0&#45;&gt;4</title>\n",
       "<path fill=\"none\" stroke=\"#000000\" d=\"M76.2494,-218.3771C93.1421,-208.0696 115.481,-194.4391 133.9617,-183.1628\"/>\n",
       "<polygon fill=\"#000000\" stroke=\"#000000\" points=\"135.97,-186.0375 142.6834,-177.8411 132.3239,-180.062 135.97,-186.0375\"/>\n",
       "</g>\n",
       "<!-- 5 -->\n",
       "<g id=\"node6\" class=\"node\">\n",
       "<title>5</title>\n",
       "<ellipse fill=\"none\" stroke=\"#000000\" cx=\"289.6451\" cy=\"-162\" rx=\"51.2492\" ry=\"18\"/>\n",
       "<text text-anchor=\"middle\" x=\"289.6451\" y=\"-157.8\" font-family=\"Times,serif\" font-size=\"14.00\" fill=\"#000000\">YOX1 max</text>\n",
       "</g>\n",
       "<!-- 0&#45;&gt;5 -->\n",
       "<g id=\"edge3\" class=\"edge\">\n",
       "<title>0&#45;&gt;5</title>\n",
       "<path fill=\"none\" stroke=\"#000000\" d=\"M89.0393,-222.2582C95.8995,-220.1683 102.9824,-218.0157 109.6451,-216 116.1042,-214.0459 189.4146,-192.0575 240.4575,-176.7501\"/>\n",
       "<polygon fill=\"#000000\" stroke=\"#000000\" points=\"241.7697,-180.0107 250.3428,-173.7856 239.7588,-173.3057 241.7697,-180.0107\"/>\n",
       "</g>\n",
       "<!-- 1 -->\n",
       "<g id=\"node2\" class=\"node\">\n",
       "<title>1</title>\n",
       "<ellipse fill=\"none\" stroke=\"#000000\" cx=\"168.6451\" cy=\"-234\" rx=\"49.8131\" ry=\"18\"/>\n",
       "<text text-anchor=\"middle\" x=\"168.6451\" y=\"-229.8\" font-family=\"Times,serif\" font-size=\"14.00\" fill=\"#000000\">NDD1 min</text>\n",
       "</g>\n",
       "<!-- 1&#45;&gt;3 -->\n",
       "<g id=\"edge4\" class=\"edge\">\n",
       "<title>1&#45;&gt;3</title>\n",
       "<path fill=\"none\" stroke=\"#000000\" d=\"M143.0409,-218.3771C126.0317,-207.9986 103.5009,-194.251 84.9467,-182.9298\"/>\n",
       "<polygon fill=\"#000000\" stroke=\"#000000\" points=\"86.5589,-179.8134 76.1994,-177.5924 82.9128,-185.7889 86.5589,-179.8134\"/>\n",
       "</g>\n",
       "<!-- 1&#45;&gt;4 -->\n",
       "<g id=\"edge5\" class=\"edge\">\n",
       "<title>1&#45;&gt;4</title>\n",
       "<path fill=\"none\" stroke=\"#000000\" d=\"M168.6451,-215.8314C168.6451,-208.131 168.6451,-198.9743 168.6451,-190.4166\"/>\n",
       "<polygon fill=\"#000000\" stroke=\"#000000\" points=\"172.1452,-190.4132 168.6451,-180.4133 165.1452,-190.4133 172.1452,-190.4132\"/>\n",
       "</g>\n",
       "<!-- 1&#45;&gt;5 -->\n",
       "<g id=\"edge6\" class=\"edge\">\n",
       "<title>1&#45;&gt;5</title>\n",
       "<path fill=\"none\" stroke=\"#000000\" d=\"M194.6027,-218.5542C212.1072,-208.1383 235.4136,-194.27 254.5657,-182.8737\"/>\n",
       "<polygon fill=\"#000000\" stroke=\"#000000\" points=\"256.5091,-185.7901 263.313,-177.6687 252.9296,-179.7745 256.5091,-185.7901\"/>\n",
       "</g>\n",
       "<!-- 2 -->\n",
       "<g id=\"node3\" class=\"node\">\n",
       "<title>2</title>\n",
       "<ellipse fill=\"none\" stroke=\"#000000\" cx=\"285.6451\" cy=\"-234\" rx=\"49.8131\" ry=\"18\"/>\n",
       "<text text-anchor=\"middle\" x=\"285.6451\" y=\"-229.8\" font-family=\"Times,serif\" font-size=\"14.00\" fill=\"#000000\">YOX1 min</text>\n",
       "</g>\n",
       "<!-- 2&#45;&gt;3 -->\n",
       "<g id=\"edge7\" class=\"edge\">\n",
       "<title>2&#45;&gt;3</title>\n",
       "<path fill=\"none\" stroke=\"#000000\" d=\"M247.9099,-222.2324C241.1651,-220.1452 234.1998,-218.0003 227.6451,-216 174.3881,-199.7478 160.8617,-196.3842 107.6451,-180 104.1676,-178.9293 100.5734,-177.8143 96.9597,-176.6871\"/>\n",
       "<polygon fill=\"#000000\" stroke=\"#000000\" points=\"98.0044,-173.3468 87.4154,-173.6972 95.9118,-180.0267 98.0044,-173.3468\"/>\n",
       "</g>\n",
       "<!-- 2&#45;&gt;4 -->\n",
       "<g id=\"edge8\" class=\"edge\">\n",
       "<title>2&#45;&gt;4</title>\n",
       "<path fill=\"none\" stroke=\"#000000\" d=\"M260.2579,-218.3771C243.5083,-208.0696 221.3587,-194.4391 203.0346,-183.1628\"/>\n",
       "<polygon fill=\"#000000\" stroke=\"#000000\" points=\"204.7378,-180.1013 194.3869,-177.8411 201.0691,-186.0629 204.7378,-180.1013\"/>\n",
       "</g>\n",
       "<!-- 2&#45;&gt;5 -->\n",
       "<g id=\"edge9\" class=\"edge\">\n",
       "<title>2&#45;&gt;5</title>\n",
       "<path fill=\"none\" stroke=\"#000000\" d=\"M286.6545,-215.8314C287.0823,-208.131 287.591,-198.9743 288.0664,-190.4166\"/>\n",
       "<polygon fill=\"#000000\" stroke=\"#000000\" points=\"291.562,-190.592 288.6222,-180.4133 284.5728,-190.2037 291.562,-190.592\"/>\n",
       "</g>\n",
       "<!-- 6 -->\n",
       "<g id=\"node7\" class=\"node\">\n",
       "<title>6</title>\n",
       "<ellipse fill=\"none\" stroke=\"#000000\" cx=\"168.6451\" cy=\"-90\" rx=\"51.2492\" ry=\"18\"/>\n",
       "<text text-anchor=\"middle\" x=\"168.6451\" y=\"-85.8\" font-family=\"Times,serif\" font-size=\"14.00\" fill=\"#000000\">NDD1 max</text>\n",
       "</g>\n",
       "<!-- 3&#45;&gt;6 -->\n",
       "<g id=\"edge10\" class=\"edge\">\n",
       "<title>3&#45;&gt;6</title>\n",
       "<path fill=\"none\" stroke=\"#000000\" d=\"M75.9591,-146.5542C92.9524,-136.1854 115.5526,-122.3955 134.1817,-111.0286\"/>\n",
       "<polygon fill=\"#000000\" stroke=\"#000000\" points=\"136.2525,-113.8651 142.9659,-105.6687 132.6064,-107.8896 136.2525,-113.8651\"/>\n",
       "</g>\n",
       "<!-- 4&#45;&gt;6 -->\n",
       "<g id=\"edge11\" class=\"edge\">\n",
       "<title>4&#45;&gt;6</title>\n",
       "<path fill=\"none\" stroke=\"#000000\" d=\"M168.6451,-143.8314C168.6451,-136.131 168.6451,-126.9743 168.6451,-118.4166\"/>\n",
       "<polygon fill=\"#000000\" stroke=\"#000000\" points=\"172.1452,-118.4132 168.6451,-108.4133 165.1452,-118.4133 172.1452,-118.4132\"/>\n",
       "</g>\n",
       "<!-- 5&#45;&gt;6 -->\n",
       "<g id=\"edge12\" class=\"edge\">\n",
       "<title>5&#45;&gt;6</title>\n",
       "<path fill=\"none\" stroke=\"#000000\" d=\"M263.3899,-146.3771C245.869,-135.9514 222.6345,-122.1259 203.5596,-110.7756\"/>\n",
       "<polygon fill=\"#000000\" stroke=\"#000000\" points=\"205.2325,-107.6983 194.8491,-105.5924 201.653,-113.7139 205.2325,-107.6983\"/>\n",
       "</g>\n",
       "<!-- 7 -->\n",
       "<g id=\"node8\" class=\"node\">\n",
       "<title>7</title>\n",
       "<ellipse fill=\"none\" stroke=\"#000000\" cx=\"168.6451\" cy=\"-18\" rx=\"46.915\" ry=\"18\"/>\n",
       "<text text-anchor=\"middle\" x=\"168.6451\" y=\"-13.8\" font-family=\"Times,serif\" font-size=\"14.00\" fill=\"#000000\">SWI4 min</text>\n",
       "</g>\n",
       "<!-- 6&#45;&gt;7 -->\n",
       "<g id=\"edge13\" class=\"edge\">\n",
       "<title>6&#45;&gt;7</title>\n",
       "<path fill=\"none\" stroke=\"#000000\" d=\"M168.6451,-71.8314C168.6451,-64.131 168.6451,-54.9743 168.6451,-46.4166\"/>\n",
       "<polygon fill=\"#000000\" stroke=\"#000000\" points=\"172.1452,-46.4132 168.6451,-36.4133 165.1452,-46.4133 172.1452,-46.4132\"/>\n",
       "</g>\n",
       "</g>\n",
       "</svg>\n"
      ],
      "text/plain": [
       "<graphviz.files.Source at 0x107839e10>"
      ]
     },
     "execution_count": 8,
     "metadata": {},
     "output_type": "execute_result"
    }
   ],
   "source": [
    "DrawGraph(PosetOfExtrema(networks[0], original_events, original_event_ordering ))"
   ]
  },
  {
   "cell_type": "markdown",
   "metadata": {},
   "source": [
    "## Alternative Poset of Extrema"
   ]
  },
  {
   "cell_type": "code",
   "execution_count": 9,
   "metadata": {
    "collapsed": true,
    "jupyter": {
     "outputs_hidden": true
    }
   },
   "outputs": [],
   "source": [
    "all_events = [(\"SWI4\", \"min\"), (\"HCM1\", \"min\"), (\"NDD1\", \"min\"), (\"YOX1\", \"min\"), \n",
    "          (\"SWI4\", \"max\"), (\"HCM1\", \"max\"), (\"YOX1\", \"max\"), \n",
    "          (\"NDD1\", \"max\"),\n",
    "          (\"SWI4\",\"min\"),\n",
    "          (\"YOX1\", \"min\"), (\"HCM1\",\"min\"),\n",
    "          (\"NDD1\", \"min\"),\n",
    "          (\"SWI4\", \"max\"), (\"HCM1\", \"max\"), (\"YOX1\", \"max\"),\n",
    "          (\"NDD1\", \"max\")]\n",
    "all_event_ordering = [ (i,j) for i in [0,1,2,3] for j in [4,5,6] ] + \\\n",
    "                 [ (i,j) for i in [4,5,6] for j in [7] ] + \\\n",
    "                 [ (i,j) for i in [7] for j in [8] ] + \\\n",
    "                 [ (i,j) for i in [8] for j in [9,10] ] + \\\n",
    "                 [ (i,j) for i in [9,10] for j in [11,12,13,14] ] + \\\n",
    "                 [ (11,15) ]"
   ]
  },
  {
   "cell_type": "code",
   "execution_count": 10,
   "metadata": {},
   "outputs": [
    {
     "data": {
      "image/svg+xml": [
       "<?xml version=\"1.0\" encoding=\"UTF-8\" standalone=\"no\"?>\n",
       "<!DOCTYPE svg PUBLIC \"-//W3C//DTD SVG 1.1//EN\"\n",
       " \"http://www.w3.org/Graphics/SVG/1.1/DTD/svg11.dtd\">\n",
       "<!-- Generated by graphviz version 2.40.1 (20161225.0304)\n",
       " -->\n",
       "<!-- Title: %3 Pages: 1 -->\n",
       "<svg width=\"466pt\" height=\"476pt\"\n",
       " viewBox=\"0.00 0.00 465.76 476.00\" xmlns=\"http://www.w3.org/2000/svg\" xmlns:xlink=\"http://www.w3.org/1999/xlink\">\n",
       "<g id=\"graph0\" class=\"graph\" transform=\"scale(1 1) rotate(0) translate(4 472)\">\n",
       "<title>%3</title>\n",
       "<polygon fill=\"#ffffff\" stroke=\"transparent\" points=\"-4,4 -4,-472 461.7584,-472 461.7584,4 -4,4\"/>\n",
       "<!-- 0 -->\n",
       "<g id=\"node1\" class=\"node\">\n",
       "<title>0</title>\n",
       "<ellipse fill=\"none\" stroke=\"#000000\" cx=\"292.1133\" cy=\"-450\" rx=\"46.915\" ry=\"18\"/>\n",
       "<text text-anchor=\"middle\" x=\"292.1133\" y=\"-445.8\" font-family=\"Times,serif\" font-size=\"14.00\" fill=\"#000000\">SWI4 min</text>\n",
       "</g>\n",
       "<!-- 4 -->\n",
       "<g id=\"node5\" class=\"node\">\n",
       "<title>4</title>\n",
       "<ellipse fill=\"none\" stroke=\"#000000\" cx=\"114.1133\" cy=\"-378\" rx=\"48.351\" ry=\"18\"/>\n",
       "<text text-anchor=\"middle\" x=\"114.1133\" y=\"-373.8\" font-family=\"Times,serif\" font-size=\"14.00\" fill=\"#000000\">SWI4 max</text>\n",
       "</g>\n",
       "<!-- 0&#45;&gt;4 -->\n",
       "<g id=\"edge1\" class=\"edge\">\n",
       "<title>0&#45;&gt;4</title>\n",
       "<path fill=\"none\" stroke=\"#000000\" d=\"M259.8788,-436.9613C230.916,-425.246 188.188,-407.9628 156.4732,-395.1343\"/>\n",
       "<polygon fill=\"#000000\" stroke=\"#000000\" points=\"157.5945,-391.8125 147.0117,-391.3072 154.9696,-398.3017 157.5945,-391.8125\"/>\n",
       "</g>\n",
       "<!-- 5 -->\n",
       "<g id=\"node6\" class=\"node\">\n",
       "<title>5</title>\n",
       "<ellipse fill=\"none\" stroke=\"#000000\" cx=\"232.1133\" cy=\"-378\" rx=\"52.2268\" ry=\"18\"/>\n",
       "<text text-anchor=\"middle\" x=\"232.1133\" y=\"-373.8\" font-family=\"Times,serif\" font-size=\"14.00\" fill=\"#000000\">HCM1 max</text>\n",
       "</g>\n",
       "<!-- 0&#45;&gt;5 -->\n",
       "<g id=\"edge2\" class=\"edge\">\n",
       "<title>0&#45;&gt;5</title>\n",
       "<path fill=\"none\" stroke=\"#000000\" d=\"M277.589,-432.5708C270.2732,-423.7919 261.2667,-412.9841 253.2043,-403.3093\"/>\n",
       "<polygon fill=\"#000000\" stroke=\"#000000\" points=\"255.8025,-400.9598 246.7118,-395.5182 250.4249,-405.4411 255.8025,-400.9598\"/>\n",
       "</g>\n",
       "<!-- 6 -->\n",
       "<g id=\"node7\" class=\"node\">\n",
       "<title>6</title>\n",
       "<ellipse fill=\"none\" stroke=\"#000000\" cx=\"353.1133\" cy=\"-378\" rx=\"51.2492\" ry=\"18\"/>\n",
       "<text text-anchor=\"middle\" x=\"353.1133\" y=\"-373.8\" font-family=\"Times,serif\" font-size=\"14.00\" fill=\"#000000\">YOX1 max</text>\n",
       "</g>\n",
       "<!-- 0&#45;&gt;6 -->\n",
       "<g id=\"edge3\" class=\"edge\">\n",
       "<title>0&#45;&gt;6</title>\n",
       "<path fill=\"none\" stroke=\"#000000\" d=\"M306.8797,-432.5708C314.3724,-423.7269 323.6097,-412.8239 331.8527,-403.0945\"/>\n",
       "<polygon fill=\"#000000\" stroke=\"#000000\" points=\"334.6891,-405.161 338.4829,-395.2687 329.3482,-400.6361 334.6891,-405.161\"/>\n",
       "</g>\n",
       "<!-- 1 -->\n",
       "<g id=\"node2\" class=\"node\">\n",
       "<title>1</title>\n",
       "<ellipse fill=\"none\" stroke=\"#000000\" cx=\"407.1133\" cy=\"-450\" rx=\"50.7907\" ry=\"18\"/>\n",
       "<text text-anchor=\"middle\" x=\"407.1133\" y=\"-445.8\" font-family=\"Times,serif\" font-size=\"14.00\" fill=\"#000000\">HCM1 min</text>\n",
       "</g>\n",
       "<!-- 1&#45;&gt;4 -->\n",
       "<g id=\"edge4\" class=\"edge\">\n",
       "<title>1&#45;&gt;4</title>\n",
       "<path fill=\"none\" stroke=\"#000000\" d=\"M369.4944,-437.9378C362.424,-435.8375 355.0682,-433.7639 348.1133,-432 270.2996,-412.2648 248.8297,-416.1148 171.1133,-396 167.484,-395.0607 163.7439,-394.028 159.9967,-392.947\"/>\n",
       "<polygon fill=\"#000000\" stroke=\"#000000\" points=\"160.7149,-389.5089 150.1316,-390.0039 158.7136,-396.2168 160.7149,-389.5089\"/>\n",
       "</g>\n",
       "<!-- 1&#45;&gt;5 -->\n",
       "<g id=\"edge5\" class=\"edge\">\n",
       "<title>1&#45;&gt;5</title>\n",
       "<path fill=\"none\" stroke=\"#000000\" d=\"M373.7852,-436.2879C345.866,-424.8011 305.8156,-408.3232 275.4165,-395.8162\"/>\n",
       "<polygon fill=\"#000000\" stroke=\"#000000\" points=\"276.493,-392.4745 265.9134,-391.9063 273.8295,-398.948 276.493,-392.4745\"/>\n",
       "</g>\n",
       "<!-- 1&#45;&gt;6 -->\n",
       "<g id=\"edge6\" class=\"edge\">\n",
       "<title>1&#45;&gt;6</title>\n",
       "<path fill=\"none\" stroke=\"#000000\" d=\"M394.0414,-432.5708C387.5231,-423.8797 379.5133,-413.2001 372.3132,-403.5998\"/>\n",
       "<polygon fill=\"#000000\" stroke=\"#000000\" points=\"375.052,-401.4182 366.252,-395.5182 369.452,-405.6183 375.052,-401.4182\"/>\n",
       "</g>\n",
       "<!-- 2 -->\n",
       "<g id=\"node3\" class=\"node\">\n",
       "<title>2</title>\n",
       "<ellipse fill=\"none\" stroke=\"#000000\" cx=\"61.1133\" cy=\"-450\" rx=\"49.8131\" ry=\"18\"/>\n",
       "<text text-anchor=\"middle\" x=\"61.1133\" y=\"-445.8\" font-family=\"Times,serif\" font-size=\"14.00\" fill=\"#000000\">NDD1 min</text>\n",
       "</g>\n",
       "<!-- 2&#45;&gt;4 -->\n",
       "<g id=\"edge7\" class=\"edge\">\n",
       "<title>2&#45;&gt;4</title>\n",
       "<path fill=\"none\" stroke=\"#000000\" d=\"M73.9431,-432.5708C80.3407,-423.8797 88.2021,-413.2001 95.269,-403.5998\"/>\n",
       "<polygon fill=\"#000000\" stroke=\"#000000\" points=\"98.1084,-405.6465 101.2179,-395.5182 92.471,-401.4968 98.1084,-405.6465\"/>\n",
       "</g>\n",
       "<!-- 2&#45;&gt;5 -->\n",
       "<g id=\"edge8\" class=\"edge\">\n",
       "<title>2&#45;&gt;5</title>\n",
       "<path fill=\"none\" stroke=\"#000000\" d=\"M93.6796,-436.2879C120.8732,-424.8379 159.8449,-408.4288 189.514,-395.9365\"/>\n",
       "<polygon fill=\"#000000\" stroke=\"#000000\" points=\"190.9351,-399.1359 198.7932,-392.0295 188.2186,-392.6844 190.9351,-399.1359\"/>\n",
       "</g>\n",
       "<!-- 2&#45;&gt;6 -->\n",
       "<g id=\"edge9\" class=\"edge\">\n",
       "<title>2&#45;&gt;6</title>\n",
       "<path fill=\"none\" stroke=\"#000000\" d=\"M98.0897,-437.9388C105.0408,-435.8384 112.2733,-433.7645 119.1133,-432 195.5809,-412.2734 216.5531,-415.3646 293.1133,-396 296.9764,-395.0229 300.9628,-393.9567 304.9581,-392.8471\"/>\n",
       "<polygon fill=\"#000000\" stroke=\"#000000\" points=\"306.1876,-396.136 314.8424,-390.0249 304.2657,-389.405 306.1876,-396.136\"/>\n",
       "</g>\n",
       "<!-- 3 -->\n",
       "<g id=\"node4\" class=\"node\">\n",
       "<title>3</title>\n",
       "<ellipse fill=\"none\" stroke=\"#000000\" cx=\"178.1133\" cy=\"-450\" rx=\"49.8131\" ry=\"18\"/>\n",
       "<text text-anchor=\"middle\" x=\"178.1133\" y=\"-445.8\" font-family=\"Times,serif\" font-size=\"14.00\" fill=\"#000000\">YOX1 min</text>\n",
       "</g>\n",
       "<!-- 3&#45;&gt;4 -->\n",
       "<g id=\"edge10\" class=\"edge\">\n",
       "<title>3&#45;&gt;4</title>\n",
       "<path fill=\"none\" stroke=\"#000000\" d=\"M162.6207,-432.5708C154.6808,-423.6385 144.8739,-412.6056 136.1603,-402.8029\"/>\n",
       "<polygon fill=\"#000000\" stroke=\"#000000\" points=\"138.7228,-400.4175 129.4632,-395.2687 133.491,-405.0681 138.7228,-400.4175\"/>\n",
       "</g>\n",
       "<!-- 3&#45;&gt;5 -->\n",
       "<g id=\"edge11\" class=\"edge\">\n",
       "<title>3&#45;&gt;5</title>\n",
       "<path fill=\"none\" stroke=\"#000000\" d=\"M191.1852,-432.5708C197.7035,-423.8797 205.7132,-413.2001 212.9134,-403.5998\"/>\n",
       "<polygon fill=\"#000000\" stroke=\"#000000\" points=\"215.7746,-405.6183 218.9746,-395.5182 210.1746,-401.4182 215.7746,-405.6183\"/>\n",
       "</g>\n",
       "<!-- 3&#45;&gt;6 -->\n",
       "<g id=\"edge12\" class=\"edge\">\n",
       "<title>3&#45;&gt;6</title>\n",
       "<path fill=\"none\" stroke=\"#000000\" d=\"M211.0294,-436.4574C239.0826,-424.9155 279.599,-408.2459 310.1935,-395.6584\"/>\n",
       "<polygon fill=\"#000000\" stroke=\"#000000\" points=\"311.8336,-398.7684 319.7497,-391.7267 309.1701,-392.2949 311.8336,-398.7684\"/>\n",
       "</g>\n",
       "<!-- 7 -->\n",
       "<g id=\"node8\" class=\"node\">\n",
       "<title>7</title>\n",
       "<ellipse fill=\"none\" stroke=\"#000000\" cx=\"232.1133\" cy=\"-306\" rx=\"51.2492\" ry=\"18\"/>\n",
       "<text text-anchor=\"middle\" x=\"232.1133\" y=\"-301.8\" font-family=\"Times,serif\" font-size=\"14.00\" fill=\"#000000\">NDD1 max</text>\n",
       "</g>\n",
       "<!-- 4&#45;&gt;7 -->\n",
       "<g id=\"edge13\" class=\"edge\">\n",
       "<title>4&#45;&gt;7</title>\n",
       "<path fill=\"none\" stroke=\"#000000\" d=\"M139.4272,-362.5542C156.4206,-352.1854 179.0207,-338.3955 197.6498,-327.0286\"/>\n",
       "<polygon fill=\"#000000\" stroke=\"#000000\" points=\"199.7207,-329.8651 206.434,-321.6687 196.0746,-323.8896 199.7207,-329.8651\"/>\n",
       "</g>\n",
       "<!-- 5&#45;&gt;7 -->\n",
       "<g id=\"edge14\" class=\"edge\">\n",
       "<title>5&#45;&gt;7</title>\n",
       "<path fill=\"none\" stroke=\"#000000\" d=\"M232.1133,-359.8314C232.1133,-352.131 232.1133,-342.9743 232.1133,-334.4166\"/>\n",
       "<polygon fill=\"#000000\" stroke=\"#000000\" points=\"235.6134,-334.4132 232.1133,-324.4133 228.6134,-334.4133 235.6134,-334.4132\"/>\n",
       "</g>\n",
       "<!-- 6&#45;&gt;7 -->\n",
       "<g id=\"edge15\" class=\"edge\">\n",
       "<title>6&#45;&gt;7</title>\n",
       "<path fill=\"none\" stroke=\"#000000\" d=\"M326.8581,-362.3771C309.3371,-351.9514 286.1027,-338.1259 267.0278,-326.7756\"/>\n",
       "<polygon fill=\"#000000\" stroke=\"#000000\" points=\"268.7007,-323.6983 258.3172,-321.5924 265.1212,-329.7139 268.7007,-323.6983\"/>\n",
       "</g>\n",
       "<!-- 8 -->\n",
       "<g id=\"node9\" class=\"node\">\n",
       "<title>8</title>\n",
       "<ellipse fill=\"none\" stroke=\"#000000\" cx=\"232.1133\" cy=\"-234\" rx=\"46.915\" ry=\"18\"/>\n",
       "<text text-anchor=\"middle\" x=\"232.1133\" y=\"-229.8\" font-family=\"Times,serif\" font-size=\"14.00\" fill=\"#000000\">SWI4 min</text>\n",
       "</g>\n",
       "<!-- 7&#45;&gt;8 -->\n",
       "<g id=\"edge16\" class=\"edge\">\n",
       "<title>7&#45;&gt;8</title>\n",
       "<path fill=\"none\" stroke=\"#000000\" d=\"M232.1133,-287.8314C232.1133,-280.131 232.1133,-270.9743 232.1133,-262.4166\"/>\n",
       "<polygon fill=\"#000000\" stroke=\"#000000\" points=\"235.6134,-262.4132 232.1133,-252.4133 228.6134,-262.4133 235.6134,-262.4132\"/>\n",
       "</g>\n",
       "<!-- 9 -->\n",
       "<g id=\"node10\" class=\"node\">\n",
       "<title>9</title>\n",
       "<ellipse fill=\"none\" stroke=\"#000000\" cx=\"173.1133\" cy=\"-162\" rx=\"49.8131\" ry=\"18\"/>\n",
       "<text text-anchor=\"middle\" x=\"173.1133\" y=\"-157.8\" font-family=\"Times,serif\" font-size=\"14.00\" fill=\"#000000\">YOX1 min</text>\n",
       "</g>\n",
       "<!-- 8&#45;&gt;9 -->\n",
       "<g id=\"edge17\" class=\"edge\">\n",
       "<title>8&#45;&gt;9</title>\n",
       "<path fill=\"none\" stroke=\"#000000\" d=\"M217.831,-216.5708C210.5839,-207.7269 201.6495,-196.8239 193.6768,-187.0945\"/>\n",
       "<polygon fill=\"#000000\" stroke=\"#000000\" points=\"196.3095,-184.7851 187.264,-179.2687 190.8951,-189.2219 196.3095,-184.7851\"/>\n",
       "</g>\n",
       "<!-- 10 -->\n",
       "<g id=\"node11\" class=\"node\">\n",
       "<title>10</title>\n",
       "<ellipse fill=\"none\" stroke=\"#000000\" cx=\"291.1133\" cy=\"-162\" rx=\"50.7907\" ry=\"18\"/>\n",
       "<text text-anchor=\"middle\" x=\"291.1133\" y=\"-157.8\" font-family=\"Times,serif\" font-size=\"14.00\" fill=\"#000000\">HCM1 min</text>\n",
       "</g>\n",
       "<!-- 8&#45;&gt;10 -->\n",
       "<g id=\"edge18\" class=\"edge\">\n",
       "<title>8&#45;&gt;10</title>\n",
       "<path fill=\"none\" stroke=\"#000000\" d=\"M246.3955,-216.5708C253.5893,-207.7919 262.4457,-196.9841 270.3738,-187.3093\"/>\n",
       "<polygon fill=\"#000000\" stroke=\"#000000\" points=\"273.127,-189.4714 276.7581,-179.5182 267.7126,-185.0347 273.127,-189.4714\"/>\n",
       "</g>\n",
       "<!-- 11 -->\n",
       "<g id=\"node12\" class=\"node\">\n",
       "<title>11</title>\n",
       "<ellipse fill=\"none\" stroke=\"#000000\" cx=\"292.1133\" cy=\"-90\" rx=\"49.8131\" ry=\"18\"/>\n",
       "<text text-anchor=\"middle\" x=\"292.1133\" y=\"-85.8\" font-family=\"Times,serif\" font-size=\"14.00\" fill=\"#000000\">NDD1 min</text>\n",
       "</g>\n",
       "<!-- 9&#45;&gt;11 -->\n",
       "<g id=\"edge19\" class=\"edge\">\n",
       "<title>9&#45;&gt;11</title>\n",
       "<path fill=\"none\" stroke=\"#000000\" d=\"M198.6418,-146.5542C215.857,-136.1383 238.7781,-122.27 257.6137,-110.8737\"/>\n",
       "<polygon fill=\"#000000\" stroke=\"#000000\" points=\"259.4724,-113.8399 266.2164,-105.6687 255.8487,-107.8508 259.4724,-113.8399\"/>\n",
       "</g>\n",
       "<!-- 12 -->\n",
       "<g id=\"node13\" class=\"node\">\n",
       "<title>12</title>\n",
       "<ellipse fill=\"none\" stroke=\"#000000\" cx=\"408.1133\" cy=\"-90\" rx=\"48.351\" ry=\"18\"/>\n",
       "<text text-anchor=\"middle\" x=\"408.1133\" y=\"-85.8\" font-family=\"Times,serif\" font-size=\"14.00\" fill=\"#000000\">SWI4 max</text>\n",
       "</g>\n",
       "<!-- 9&#45;&gt;12 -->\n",
       "<g id=\"edge20\" class=\"edge\">\n",
       "<title>9&#45;&gt;12</title>\n",
       "<path fill=\"none\" stroke=\"#000000\" d=\"M210.8485,-150.2324C217.5933,-148.1452 224.5586,-146.0003 231.1133,-144 284.3703,-127.7478 297.8967,-124.3842 351.1133,-108 354.5908,-106.9293 358.185,-105.8143 361.7987,-104.6871\"/>\n",
       "<polygon fill=\"#000000\" stroke=\"#000000\" points=\"362.8466,-108.0267 371.343,-101.6972 360.754,-101.3468 362.8466,-108.0267\"/>\n",
       "</g>\n",
       "<!-- 13 -->\n",
       "<g id=\"node14\" class=\"node\">\n",
       "<title>13</title>\n",
       "<ellipse fill=\"none\" stroke=\"#000000\" cx=\"52.1133\" cy=\"-90\" rx=\"52.2268\" ry=\"18\"/>\n",
       "<text text-anchor=\"middle\" x=\"52.1133\" y=\"-85.8\" font-family=\"Times,serif\" font-size=\"14.00\" fill=\"#000000\">HCM1 max</text>\n",
       "</g>\n",
       "<!-- 9&#45;&gt;13 -->\n",
       "<g id=\"edge21\" class=\"edge\">\n",
       "<title>9&#45;&gt;13</title>\n",
       "<path fill=\"none\" stroke=\"#000000\" d=\"M147.1557,-146.5542C129.6512,-136.1383 106.3449,-122.27 87.1927,-110.8737\"/>\n",
       "<polygon fill=\"#000000\" stroke=\"#000000\" points=\"88.8289,-107.7745 78.4454,-105.6687 85.2493,-113.7901 88.8289,-107.7745\"/>\n",
       "</g>\n",
       "<!-- 14 -->\n",
       "<g id=\"node15\" class=\"node\">\n",
       "<title>14</title>\n",
       "<ellipse fill=\"none\" stroke=\"#000000\" cx=\"173.1133\" cy=\"-90\" rx=\"51.2492\" ry=\"18\"/>\n",
       "<text text-anchor=\"middle\" x=\"173.1133\" y=\"-85.8\" font-family=\"Times,serif\" font-size=\"14.00\" fill=\"#000000\">YOX1 max</text>\n",
       "</g>\n",
       "<!-- 9&#45;&gt;14 -->\n",
       "<g id=\"edge22\" class=\"edge\">\n",
       "<title>9&#45;&gt;14</title>\n",
       "<path fill=\"none\" stroke=\"#000000\" d=\"M173.1133,-143.8314C173.1133,-136.131 173.1133,-126.9743 173.1133,-118.4166\"/>\n",
       "<polygon fill=\"#000000\" stroke=\"#000000\" points=\"176.6134,-118.4132 173.1133,-108.4133 169.6134,-118.4133 176.6134,-118.4132\"/>\n",
       "</g>\n",
       "<!-- 10&#45;&gt;11 -->\n",
       "<g id=\"edge23\" class=\"edge\">\n",
       "<title>10&#45;&gt;11</title>\n",
       "<path fill=\"none\" stroke=\"#000000\" d=\"M291.3656,-143.8314C291.4726,-136.131 291.5998,-126.9743 291.7186,-118.4166\"/>\n",
       "<polygon fill=\"#000000\" stroke=\"#000000\" points=\"295.2182,-118.4609 291.8575,-108.4133 288.2189,-118.3637 295.2182,-118.4609\"/>\n",
       "</g>\n",
       "<!-- 10&#45;&gt;12 -->\n",
       "<g id=\"edge24\" class=\"edge\">\n",
       "<title>10&#45;&gt;12</title>\n",
       "<path fill=\"none\" stroke=\"#000000\" d=\"M316.5005,-146.3771C333.3656,-135.9986 355.7054,-122.251 374.1024,-110.9298\"/>\n",
       "<polygon fill=\"#000000\" stroke=\"#000000\" points=\"376.0933,-113.8143 382.7756,-105.5924 372.4246,-107.8526 376.0933,-113.8143\"/>\n",
       "</g>\n",
       "<!-- 10&#45;&gt;13 -->\n",
       "<g id=\"edge25\" class=\"edge\">\n",
       "<title>10&#45;&gt;13</title>\n",
       "<path fill=\"none\" stroke=\"#000000\" d=\"M252.7191,-150.2582C245.8589,-148.1683 238.776,-146.0157 232.1133,-144 188.0122,-130.6576 137.7905,-115.6027 101.6219,-104.785\"/>\n",
       "<polygon fill=\"#000000\" stroke=\"#000000\" points=\"102.3935,-101.3627 91.8099,-101.8512 100.3881,-108.0693 102.3935,-101.3627\"/>\n",
       "</g>\n",
       "<!-- 10&#45;&gt;14 -->\n",
       "<g id=\"edge26\" class=\"edge\">\n",
       "<title>10&#45;&gt;14</title>\n",
       "<path fill=\"none\" stroke=\"#000000\" d=\"M265.509,-146.3771C248.4998,-135.9986 225.9691,-122.251 207.4149,-110.9298\"/>\n",
       "<polygon fill=\"#000000\" stroke=\"#000000\" points=\"209.027,-107.8134 198.6676,-105.5924 205.3809,-113.7889 209.027,-107.8134\"/>\n",
       "</g>\n",
       "<!-- 15 -->\n",
       "<g id=\"node16\" class=\"node\">\n",
       "<title>15</title>\n",
       "<ellipse fill=\"none\" stroke=\"#000000\" cx=\"292.1133\" cy=\"-18\" rx=\"51.2492\" ry=\"18\"/>\n",
       "<text text-anchor=\"middle\" x=\"292.1133\" y=\"-13.8\" font-family=\"Times,serif\" font-size=\"14.00\" fill=\"#000000\">NDD1 max</text>\n",
       "</g>\n",
       "<!-- 11&#45;&gt;15 -->\n",
       "<g id=\"edge27\" class=\"edge\">\n",
       "<title>11&#45;&gt;15</title>\n",
       "<path fill=\"none\" stroke=\"#000000\" d=\"M292.1133,-71.8314C292.1133,-64.131 292.1133,-54.9743 292.1133,-46.4166\"/>\n",
       "<polygon fill=\"#000000\" stroke=\"#000000\" points=\"295.6134,-46.4132 292.1133,-36.4133 288.6134,-46.4133 295.6134,-46.4132\"/>\n",
       "</g>\n",
       "</g>\n",
       "</svg>\n"
      ],
      "text/plain": [
       "<graphviz.files.Source at 0x107839940>"
      ]
     },
     "execution_count": 10,
     "metadata": {},
     "output_type": "execute_result"
    }
   ],
   "source": [
    "DrawGraph(PosetOfExtrema(networks[0], all_events, all_event_ordering ))"
   ]
  },
  {
   "cell_type": "markdown",
   "metadata": {},
   "source": [
    "# Experiments\n",
    "\n",
    "There are 8 experiements corresponding to 3 binary choices:\n",
    "\n",
    "* Full networks vs Essential networks \n",
    "* Path matching in entire domain graph vs path matching in stable Morse sets\n",
    "* Original poset of extrema vs Alternative poset of extrema\n"
   ]
  },
  {
   "cell_type": "code",
   "execution_count": 11,
   "metadata": {
    "collapsed": true,
    "jupyter": {
     "outputs_hidden": true
    }
   },
   "outputs": [],
   "source": [
    "def DisplayExperiment(results, title):\n",
    "    markdown_string = \"# \" + title + \"\\n\\n\"\n",
    "    markdown_string += \"| network | # parameters | # parameters with path match |\\n\"\n",
    "    markdown_string += \"| ------- |------------ | ---------------------------- |\\n\"\n",
    "    for i, item in enumerate(results):\n",
    "        [parameters_with_path_match, pgsize] = item\n",
    "        markdown_string += (\"|\" + str(i) + \"|\" + str(pgsize) + \"|\" + str(len(parameters_with_path_match)) + \"|\\n\")\n",
    "    from IPython.display import display, Markdown, Latex\n",
    "    display(Markdown(markdown_string))\n",
    "def DisplayStableExperiment(results, title):\n",
    "    markdown_string = \"# \" + title + \"\\n\\n\"\n",
    "    markdown_string += \"| network | # parameters | # parameters with stable FC | # parameters with path match |\\n\"\n",
    "    markdown_string += \"| ------- |------------ | ---------------------------- | ---------------------------- |\\n\"\n",
    "    for i, item in enumerate(results):\n",
    "        [results, pgsize] = item\n",
    "        parameters_with_path_match = sum([ 1 if pair[0] else 0 for pair in results])\n",
    "        parameters_with_stable_fc = sum([ 1 if pair[1] else 0 for pair in results])\n",
    "        markdown_string += (\"|\" + str(i) + \"|\" + str(pgsize) + \"|\" +str(parameters_with_stable_fc) +\"|\"+str(parameters_with_path_match) + \"|\\n\")\n",
    "    from IPython.display import display, Markdown, Latex\n",
    "    display(Markdown(markdown_string))"
   ]
  },
  {
   "cell_type": "code",
   "execution_count": 12,
   "metadata": {},
   "outputs": [
    {
     "data": {
      "text/markdown": [
       "# Experiment 1: All parameters, original poset of extrema\n",
       "\n",
       "| network | # parameters | # parameters with path match |\n",
       "| ------- |------------ | ---------------------------- |\n",
       "|0|1080|22|\n",
       "|1|8640|316|\n",
       "|2|8640|180|\n",
       "|3|8640|226|\n",
       "|4|8640|280|\n",
       "|5|8640|176|\n",
       "|6|8640|270|\n",
       "|7|8640|176|\n",
       "|8|8640|176|\n"
      ],
      "text/plain": [
       "<IPython.core.display.Markdown object>"
      ]
     },
     "metadata": {},
     "output_type": "display_data"
    },
    {
     "name": "stdout",
     "output_type": "stream",
     "text": [
      "CPU times: user 12.9 s, sys: 63.4 ms, total: 13 s\n",
      "Wall time: 13.1 s\n"
     ]
    }
   ],
   "source": [
    "%%time\n",
    "experiment = lambda network : Analyze(network, original_events, original_event_ordering)\n",
    "experimental_results_1 = [ experiment(network) for network in networks ]\n",
    "DisplayExperiment(experimental_results_1, \"Experiment 1: All parameters, original poset of extrema\")"
   ]
  },
  {
   "cell_type": "code",
   "execution_count": 13,
   "metadata": {},
   "outputs": [
    {
     "data": {
      "text/markdown": [
       "# Experiment 2: Essential parameters, original poset of extrema\n",
       "\n",
       "| network | # parameters | # parameters with path match |\n",
       "| ------- |------------ | ---------------------------- |\n",
       "|0|14|8|\n",
       "|1|56|38|\n",
       "|2|56|18|\n",
       "|3|56|25|\n",
       "|4|56|28|\n",
       "|5|56|16|\n",
       "|6|56|30|\n",
       "|7|56|24|\n",
       "|8|56|24|\n"
      ],
      "text/plain": [
       "<IPython.core.display.Markdown object>"
      ]
     },
     "metadata": {},
     "output_type": "display_data"
    },
    {
     "name": "stdout",
     "output_type": "stream",
     "text": [
      "CPU times: user 94.8 ms, sys: 3.15 ms, total: 97.9 ms\n",
      "Wall time: 96.6 ms\n"
     ]
    }
   ],
   "source": [
    "%%time\n",
    "experiment = lambda network : Analyze(network, original_events, original_event_ordering)\n",
    "experimental_results_2 = [ experiment(network) for network in essential_networks ]\n",
    "DisplayExperiment(experimental_results_2, \"Experiment 2: Essential parameters, original poset of extrema\")"
   ]
  },
  {
   "cell_type": "code",
   "execution_count": 14,
   "metadata": {},
   "outputs": [
    {
     "data": {
      "text/markdown": [
       "# Experiment 3: All parameters, original poset, stable only\n",
       "\n",
       "| network | # parameters | # parameters with stable FC | # parameters with path match |\n",
       "| ------- |------------ | ---------------------------- | ---------------------------- |\n",
       "|0|1080|4|16|\n",
       "|1|8640|56|224|\n",
       "|2|8640|24|96|\n",
       "|3|8640|132|166|\n",
       "|4|8640|36|108|\n",
       "|5|8640|56|128|\n",
       "|6|8640|168|222|\n",
       "|7|8640|48|118|\n",
       "|8|8640|108|134|\n"
      ],
      "text/plain": [
       "<IPython.core.display.Markdown object>"
      ]
     },
     "metadata": {},
     "output_type": "display_data"
    },
    {
     "name": "stdout",
     "output_type": "stream",
     "text": [
      "CPU times: user 8.8 s, sys: 25.5 ms, total: 8.82 s\n",
      "Wall time: 8.83 s\n"
     ]
    }
   ],
   "source": [
    "%%time\n",
    "experiment = lambda network : AnalyzeOnStable(network, original_events, original_event_ordering)\n",
    "experimental_results_3 = [ experiment(network) for network in networks ]\n",
    "DisplayStableExperiment(experimental_results_3, \"Experiment 3: All parameters, original poset, stable only\")"
   ]
  },
  {
   "cell_type": "code",
   "execution_count": 15,
   "metadata": {},
   "outputs": [
    {
     "data": {
      "text/markdown": [
       "# Experiment 4: Essential parameters, original poset, stable only\n",
       "\n",
       "| network | # parameters | # parameters with stable FC | # parameters with path match |\n",
       "| ------- |------------ | ---------------------------- | ---------------------------- |\n",
       "|0|14|2|2|\n",
       "|1|56|8|8|\n",
       "|2|56|0|0|\n",
       "|3|56|8|7|\n",
       "|4|56|0|0|\n",
       "|5|56|8|4|\n",
       "|6|56|28|18|\n",
       "|7|56|8|8|\n",
       "|8|56|28|18|\n"
      ],
      "text/plain": [
       "<IPython.core.display.Markdown object>"
      ]
     },
     "metadata": {},
     "output_type": "display_data"
    },
    {
     "name": "stdout",
     "output_type": "stream",
     "text": [
      "CPU times: user 93.6 ms, sys: 4.17 ms, total: 97.8 ms\n",
      "Wall time: 95.9 ms\n"
     ]
    }
   ],
   "source": [
    "%%time\n",
    "experiment = lambda network : AnalyzeOnStable(network, original_events, original_event_ordering)\n",
    "experimental_results_4 = [ experiment(network) for network in essential_networks ]\n",
    "DisplayStableExperiment(experimental_results_4, \"Experiment 4: Essential parameters, original poset, stable only\")"
   ]
  },
  {
   "cell_type": "code",
   "execution_count": 16,
   "metadata": {},
   "outputs": [
    {
     "data": {
      "text/markdown": [
       "# Experiment 5: All parameters, alternative poset of extrema\n",
       "\n",
       "| network | # parameters | # parameters with path match |\n",
       "| ------- |------------ | ---------------------------- |\n",
       "|0|1080|22|\n",
       "|1|8640|264|\n",
       "|2|8640|176|\n",
       "|3|8640|224|\n",
       "|4|8640|278|\n",
       "|5|8640|176|\n",
       "|6|8640|268|\n",
       "|7|8640|176|\n",
       "|8|8640|176|\n"
      ],
      "text/plain": [
       "<IPython.core.display.Markdown object>"
      ]
     },
     "metadata": {},
     "output_type": "display_data"
    },
    {
     "name": "stdout",
     "output_type": "stream",
     "text": [
      "CPU times: user 11 s, sys: 16.7 ms, total: 11 s\n",
      "Wall time: 11 s\n"
     ]
    }
   ],
   "source": [
    "%%time\n",
    "experiment = lambda network : Analyze(network, all_events, all_event_ordering)\n",
    "experimental_results_5 = [ experiment(network) for network in networks ]\n",
    "DisplayExperiment(experimental_results_5, \"Experiment 5: All parameters, alternative poset of extrema\")"
   ]
  },
  {
   "cell_type": "code",
   "execution_count": 17,
   "metadata": {},
   "outputs": [
    {
     "data": {
      "text/markdown": [
       "# Experiment 6: Essential parameters, alternative poset of extrema\n",
       "\n",
       "| network | # parameters | # parameters with path match |\n",
       "| ------- |------------ | ---------------------------- |\n",
       "|0|14|8|\n",
       "|1|56|32|\n",
       "|2|56|16|\n",
       "|3|56|24|\n",
       "|4|56|28|\n",
       "|5|56|16|\n",
       "|6|56|28|\n",
       "|7|56|24|\n",
       "|8|56|24|\n"
      ],
      "text/plain": [
       "<IPython.core.display.Markdown object>"
      ]
     },
     "metadata": {},
     "output_type": "display_data"
    },
    {
     "name": "stdout",
     "output_type": "stream",
     "text": [
      "CPU times: user 88.7 ms, sys: 3.88 ms, total: 92.6 ms\n",
      "Wall time: 91.1 ms\n"
     ]
    }
   ],
   "source": [
    "%%time\n",
    "experiment = lambda network : Analyze(network, all_events, all_event_ordering)\n",
    "experimental_results_6 = [ experiment(network) for network in essential_networks ]\n",
    "DisplayExperiment(experimental_results_6, \"Experiment 6: Essential parameters, alternative poset of extrema\")"
   ]
  },
  {
   "cell_type": "code",
   "execution_count": 18,
   "metadata": {},
   "outputs": [
    {
     "data": {
      "text/markdown": [
       "# Experiment 7: All parameters, alternative poset of extrema, stable only\n",
       "\n",
       "| network | # parameters | # parameters with stable FC | # parameters with path match |\n",
       "| ------- |------------ | ---------------------------- | ---------------------------- |\n",
       "|0|1080|4|16|\n",
       "|1|8640|56|192|\n",
       "|2|8640|24|96|\n",
       "|3|8640|132|164|\n",
       "|4|8640|36|108|\n",
       "|5|8640|56|128|\n",
       "|6|8640|168|221|\n",
       "|7|8640|48|118|\n",
       "|8|8640|108|134|\n"
      ],
      "text/plain": [
       "<IPython.core.display.Markdown object>"
      ]
     },
     "metadata": {},
     "output_type": "display_data"
    },
    {
     "name": "stdout",
     "output_type": "stream",
     "text": [
      "CPU times: user 9.23 s, sys: 33.6 ms, total: 9.26 s\n",
      "Wall time: 9.27 s\n"
     ]
    }
   ],
   "source": [
    "%%time\n",
    "experiment = lambda network : AnalyzeOnStable(network, all_events, all_event_ordering)\n",
    "experimental_results_7 = [ experiment(network) for network in networks ]\n",
    "DisplayStableExperiment(experimental_results_7, \"Experiment 7: All parameters, alternative poset of extrema, stable only\")"
   ]
  },
  {
   "cell_type": "code",
   "execution_count": 19,
   "metadata": {},
   "outputs": [
    {
     "data": {
      "text/markdown": [
       "# Experiment 8: Essential parameters, alternative poset of extrema, stable only\n",
       "\n",
       "| network | # parameters | # parameters with stable FC | # parameters with path match |\n",
       "| ------- |------------ | ---------------------------- | ---------------------------- |\n",
       "|0|14|2|2|\n",
       "|1|56|8|8|\n",
       "|2|56|0|0|\n",
       "|3|56|8|6|\n",
       "|4|56|0|0|\n",
       "|5|56|8|4|\n",
       "|6|56|28|17|\n",
       "|7|56|8|8|\n",
       "|8|56|28|18|\n"
      ],
      "text/plain": [
       "<IPython.core.display.Markdown object>"
      ]
     },
     "metadata": {},
     "output_type": "display_data"
    },
    {
     "name": "stdout",
     "output_type": "stream",
     "text": [
      "CPU times: user 104 ms, sys: 5.4 ms, total: 109 ms\n",
      "Wall time: 108 ms\n"
     ]
    }
   ],
   "source": [
    "%%time\n",
    "experiment = lambda network : AnalyzeOnStable(network, all_events, all_event_ordering)\n",
    "experimental_results_8 = [ experiment(network) for network in essential_networks ]\n",
    "DisplayStableExperiment(experimental_results_8, \"Experiment 8: Essential parameters, alternative poset of extrema, stable only\")"
   ]
  },
  {
   "cell_type": "code",
   "execution_count": null,
   "metadata": {
    "collapsed": true,
    "jupyter": {
     "outputs_hidden": true
    }
   },
   "outputs": [],
   "source": []
  }
 ],
 "metadata": {
  "anaconda-cloud": {},
  "kernelspec": {
   "display_name": "Python 3 (ipykernel)",
   "language": "python",
   "name": "python3"
  },
  "language_info": {
   "codemirror_mode": {
    "name": "ipython",
    "version": 3
   },
   "file_extension": ".py",
   "mimetype": "text/x-python",
   "name": "python",
   "nbconvert_exporter": "python",
   "pygments_lexer": "ipython3",
   "version": "3.12.2"
  }
 },
 "nbformat": 4,
 "nbformat_minor": 4
}
